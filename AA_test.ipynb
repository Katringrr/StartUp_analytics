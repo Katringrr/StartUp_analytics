{
 "cells": [
  {
   "cell_type": "markdown",
   "id": "f99c8589-33d3-41d9-bda3-37321c6c3432",
   "metadata": {
    "tags": []
   },
   "source": [
    "# Цель работы"
   ]
  },
  {
   "cell_type": "markdown",
   "id": "9a6ef5f7-cc33-4b6a-a59e-046a5e9dabba",
   "metadata": {
    "tags": []
   },
   "source": [
    "**Цель** - убедиться в том, что наша система сплитования работает корректно, и ключевая метрика не отличается между группами не только в конкретно нашем АА-тесте, но и в целом.\n",
    "\n",
    "**Идея** - провести множественные число АА-тестов, используя подвыборки из наших экспериментальной и контрольной групп.\n",
    "\n",
    "**Задачи**:\n",
    "У нас есть данные АА-теста с '2023-02-23' по '2023-03-01'. \n",
    "\n",
    "1. Проводим симуляцию, как будто мы провели 10000 АА-тестов. На каждой итерации формируем подвыборки без повторения в 500 юзеров из 2 и 3 экспериментальной группы.\n",
    "2. Проводим тесты на наличие эффекта в данных 10000 группах.\n",
    "3. Строим гистограмму распределения получившихся 10000 p-values.\n",
    "4. Смотрим, какой процент p-values оказался меньше либо равен 0.05.\n",
    "5. Пишем выводы, корректно ли работает наша система сплитования (если процент p-values меньше 5)."
   ]
  },
  {
   "cell_type": "markdown",
   "id": "5241a980-bdf5-4f60-bc67-98b766b5582f",
   "metadata": {
    "tags": []
   },
   "source": [
    "# Анализ"
   ]
  },
  {
   "cell_type": "markdown",
   "id": "00fef9d6-93c3-4b69-b564-1da752e57c70",
   "metadata": {
    "tags": []
   },
   "source": [
    "## Подготовка к анализу"
   ]
  },
  {
   "cell_type": "code",
   "execution_count": 9,
   "id": "87ed631e-226c-41b6-b290-50d001bf45f8",
   "metadata": {},
   "outputs": [],
   "source": [
    "# Загружаем библиотеки\n",
    "\n",
    "import pandahouse\n",
    "from scipy import stats\n",
    "import seaborn as sns\n",
    "import pandas as pd\n",
    "import matplotlib.pyplot as plt"
   ]
  },
  {
   "cell_type": "code",
   "execution_count": 3,
   "id": "701e609b-1899-412d-a643-f6f8ad9a5744",
   "metadata": {},
   "outputs": [],
   "source": [
    "# Соединяемся с сервером из ClickHouse\n",
    "\n",
    "connection = {\n",
    "    'host': 'https://clickhouse.lab.karpov.courses',\n",
    "    'password': 'dpo_python_2020',\n",
    "    'user': 'student',\n",
    "    'database': 'simulator_20230320'\n",
    "}"
   ]
  },
  {
   "cell_type": "code",
   "execution_count": 4,
   "id": "fcbec4c5-8d6f-4492-be9b-de9c4f82e315",
   "metadata": {},
   "outputs": [],
   "source": [
    "# Выбираем данные\n",
    "\n",
    "q = \"\"\"\n",
    "    SELECT \n",
    "            exp_group,\n",
    "            user_id,\n",
    "            sum(action = 'like') as likes,\n",
    "            sum(action = 'view') as views,\n",
    "            likes / views as CTR\n",
    "    FROM {db}.feed_actions \n",
    "    WHERE toDate(time) between '2023-02-23' and '2023-03-01'\n",
    "            and exp_group in (2, 3)\n",
    "    GROUP BY exp_group, user_id\n",
    "    \n",
    "    \"\"\""
   ]
  },
  {
   "cell_type": "code",
   "execution_count": 5,
   "id": "d5a41cc7-6d2f-4ba9-a4df-27db6c5ce630",
   "metadata": {},
   "outputs": [],
   "source": [
    "# Создаем датафрейм\n",
    "\n",
    "df = pandahouse.read_clickhouse(q, connection=connection)"
   ]
  },
  {
   "cell_type": "code",
   "execution_count": 6,
   "id": "f3d3fb12-42a6-46e2-a98d-a6a884e7dd0c",
   "metadata": {
    "tags": []
   },
   "outputs": [],
   "source": [
    "# Графики делаем побольше\n",
    "\n",
    "sns.set(rc={'figure.figsize':(11.7, 8.27)})"
   ]
  },
  {
   "cell_type": "markdown",
   "id": "b2b95e5a-ce0a-4b06-9575-14d773b93e25",
   "metadata": {
    "tags": []
   },
   "source": [
    "## Анализ двух эксперементальных групп"
   ]
  },
  {
   "cell_type": "code",
   "execution_count": 7,
   "id": "f76e8c4a-9126-4d34-aa31-e6fae46fb585",
   "metadata": {},
   "outputs": [
    {
     "data": {
      "text/html": [
       "<div>\n",
       "<style scoped>\n",
       "    .dataframe tbody tr th:only-of-type {\n",
       "        vertical-align: middle;\n",
       "    }\n",
       "\n",
       "    .dataframe tbody tr th {\n",
       "        vertical-align: top;\n",
       "    }\n",
       "\n",
       "    .dataframe thead th {\n",
       "        text-align: right;\n",
       "    }\n",
       "</style>\n",
       "<table border=\"1\" class=\"dataframe\">\n",
       "  <thead>\n",
       "    <tr style=\"text-align: right;\">\n",
       "      <th></th>\n",
       "      <th>user_id</th>\n",
       "      <th>likes</th>\n",
       "      <th>views</th>\n",
       "      <th>CTR</th>\n",
       "    </tr>\n",
       "    <tr>\n",
       "      <th>exp_group</th>\n",
       "      <th></th>\n",
       "      <th></th>\n",
       "      <th></th>\n",
       "      <th></th>\n",
       "    </tr>\n",
       "  </thead>\n",
       "  <tbody>\n",
       "    <tr>\n",
       "      <th>2</th>\n",
       "      <td>8480</td>\n",
       "      <td>8480</td>\n",
       "      <td>8480</td>\n",
       "      <td>8480</td>\n",
       "    </tr>\n",
       "    <tr>\n",
       "      <th>3</th>\n",
       "      <td>8569</td>\n",
       "      <td>8569</td>\n",
       "      <td>8569</td>\n",
       "      <td>8569</td>\n",
       "    </tr>\n",
       "  </tbody>\n",
       "</table>\n",
       "</div>"
      ],
      "text/plain": [
       "           user_id  likes  views   CTR\n",
       "exp_group                             \n",
       "2             8480   8480   8480  8480\n",
       "3             8569   8569   8569  8569"
      ]
     },
     "execution_count": 7,
     "metadata": {},
     "output_type": "execute_result"
    }
   ],
   "source": [
    "# Проверяем, что пользователей одинаковое количество\n",
    "\n",
    "df.groupby('exp_group').count()"
   ]
  },
  {
   "cell_type": "markdown",
   "id": "791c1203-a770-49d7-868c-3fb6c0c6b0ea",
   "metadata": {},
   "source": [
    "**Вывод**: примерно одинаковая => можно предположить, что группы статистически эквивалентны."
   ]
  },
  {
   "cell_type": "code",
   "execution_count": 15,
   "id": "9c0469d3-2993-4970-a18c-67e1529b560e",
   "metadata": {},
   "outputs": [
    {
     "data": {
      "text/plain": [
       "Text(0, 0.5, 'Кол-во')"
      ]
     },
     "execution_count": 15,
     "metadata": {},
     "output_type": "execute_result"
    },
    {
     "data": {
      "image/png": "[encoded data removed]",
      "text/plain": [
       "<Figure size 842.4x595.44 with 1 Axes>"
      ]
     },
     "metadata": {},
     "output_type": "display_data"
    }
   ],
   "source": [
    "# Проверяем, чтобы центральная метрика была одинаковая \n",
    "\n",
    "sns.set_style(\"whitegrid\")\n",
    "groups = sns.histplot(data=df,\n",
    "                      x='CTR',\n",
    "                      hue='exp_group',\n",
    "                      palette=['r', 'b'],\n",
    "                      alpha=0.5,\n",
    "                      kde=False)\n",
    "\n",
    "# Добавляем подписи\n",
    "plt.legend(title='Группа', loc='upper right', labels=['2 (экспер.)','3 (экспер.)'])\n",
    "plt.title('Распределение CTR', fontsize=15)\n",
    "plt.xlabel('CTR')\n",
    "plt.ylabel('Кол-во')"
   ]
  },
  {
   "cell_type": "markdown",
   "id": "9eaebd1f-d289-459a-9b9d-b83412ae749c",
   "metadata": {},
   "source": [
    "**Вывод**: распределение похоже на нормальное => можно проводить ttest (соблюдается допущение)"
   ]
  },
  {
   "cell_type": "code",
   "execution_count": 17,
   "id": "d4048e79-c253-485e-8258-5f90e364f05b",
   "metadata": {},
   "outputs": [
    {
     "data": {
      "text/plain": [
       "0.45969873156476293"
      ]
     },
     "execution_count": 17,
     "metadata": {},
     "output_type": "execute_result"
    }
   ],
   "source": [
    "# Проводим ttest и смотрим на значение p-value\n",
    "\n",
    "ttest = stats.ttest_ind(df[df.exp_group == 2].CTR,\n",
    "                df[df.exp_group == 3].CTR,\n",
    "                equal_var=False)\n",
    "\n",
    "ttest[1]"
   ]
  },
  {
   "cell_type": "markdown",
   "id": "34f8631d-7a32-4081-b0b1-3578e2aebee8",
   "metadata": {},
   "source": [
    "**Вывод**: p-value больше 0.05 => разница между эффектами в наших группах почти минимальна. Можем идти дальше"
   ]
  },
  {
   "cell_type": "markdown",
   "id": "6e0c910e-1a52-4b5d-aaeb-3d8a9ff9a297",
   "metadata": {
    "tags": []
   },
   "source": [
    "## Теперь переходим к сплитованию"
   ]
  },
  {
   "cell_type": "code",
   "execution_count": 18,
   "id": "e6d405d7-ae64-4e69-bc8e-cad7057ddfc8",
   "metadata": {},
   "outputs": [],
   "source": [
    "# Создаем переменную - количество сплитований\n",
    "n_split = 10000\n",
    "\n",
    "# А также переменную - сколько юзеров в одной подвыборке\n",
    "n_users = 500\n",
    "\n",
    "# Создаем список для хранения p-value\n",
    "p_values = list()"
   ]
  },
  {
   "cell_type": "code",
   "execution_count": 19,
   "id": "f21068df-cd73-4de8-9b38-170a1d021313",
   "metadata": {},
   "outputs": [],
   "source": [
    "# Проводим сплитование n_split раз\n",
    "\n",
    "for _ in range(n_split):\n",
    "    # Создаем одну подвыборку\n",
    "    df_sample = df.sample(n_users, replace=False) \n",
    "    # Считаем для нее t_test\n",
    "    ttest = stats.ttest_ind(df_sample[df_sample.exp_group == 2].CTR,\n",
    "                    df_sample[df_sample.exp_group == 3].CTR,\n",
    "                    equal_var=False)\n",
    "    # Добавляем p-value в список\n",
    "    p_values.append(ttest[1])"
   ]
  },
  {
   "cell_type": "code",
   "execution_count": 22,
   "id": "9326cb40-ae41-441a-8a5d-ea72a1a5bf7c",
   "metadata": {},
   "outputs": [
    {
     "data": {
      "text/plain": [
       "Text(0, 0.5, 'Кол-во')"
      ]
     },
     "execution_count": 22,
     "metadata": {},
     "output_type": "execute_result"
    },
    {
     "data": {
      "image/png": "[encoded data removed]",
      "text/plain": [
       "<Figure size 842.4x595.44 with 1 Axes>"
      ]
     },
     "metadata": {},
     "output_type": "display_data"
    }
   ],
   "source": [
    "# Строим гистограмму распределения получившихся p-values\n",
    "sns.set_style(\"whitegrid\")\n",
    "sns.histplot(p_values, bins=100)\n",
    "\n",
    "# Добавляем подписи \n",
    "plt.title('Распределение p_values среди 10_000 подвыборок', fontsize=15)\n",
    "plt.xlabel('p_values')\n",
    "plt.ylabel('Кол-во')"
   ]
  },
  {
   "cell_type": "code",
   "execution_count": 21,
   "id": "df578a2a-b88d-4179-bf94-61f03a626f3e",
   "metadata": {},
   "outputs": [
    {
     "name": "stdout",
     "output_type": "stream",
     "text": [
      "Из всей выборки 4.53% оказалось меньше либо равно 0.05\n"
     ]
    }
   ],
   "source": [
    "# Cчитаем, какой процент p-values оказался меньше либо равен 0.05\n",
    "\n",
    "count = 0\n",
    "for i in p_values:\n",
    "    if i <= 0.05:\n",
    "        count += 1\n",
    "\n",
    "percent = count * 100 / n_split\n",
    "print(f'Из всей выборки {percent}% оказалось меньше либо равно 0.05')"
   ]
  },
  {
   "cell_type": "markdown",
   "id": "322966e9-8fe9-4c7f-803d-b9229798ca0f",
   "metadata": {
    "tags": []
   },
   "source": [
    "## Вывод по проведенному АА-тесту"
   ]
  },
  {
   "cell_type": "markdown",
   "id": "a14348fc-f1bc-4042-9be3-ca708c4631a7",
   "metadata": {},
   "source": [
    "В целом система сплитования работает хорошо. Статистически значимые различия между двумя группами встречаются только в результате случайного ложного срабатывания - меньше 5% случаев."
   ]
  }
 ],
 "metadata": {
  "kernelspec": {
   "display_name": "Python 3 (ipykernel)",
   "language": "python",
   "name": "python3"
  },
  "language_info": {
   "codemirror_mode": {
    "name": "ipython",
    "version": 3
   },
   "file_extension": ".py",
   "mimetype": "text/x-python",
   "name": "python",
   "nbconvert_exporter": "python",
   "pygments_lexer": "ipython3",
   "version": "3.8.10"
  }
 },
 "nbformat": 4,
 "nbformat_minor": 5
}
