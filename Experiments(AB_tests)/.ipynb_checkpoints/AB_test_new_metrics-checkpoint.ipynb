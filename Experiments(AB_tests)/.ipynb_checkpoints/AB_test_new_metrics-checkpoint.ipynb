{
 "cells": [
  {
   "cell_type": "markdown",
   "id": "acd14b9b-29d1-4bcd-b713-67291e29b6c0",
   "metadata": {
    "tags": []
   },
   "source": [
    "# Цель работы"
   ]
  },
  {
   "cell_type": "markdown",
   "id": "d506b9c5-be08-47b4-9bda-34a81824036f",
   "metadata": {},
   "source": [
    "**Цель** - провести А/В тестирование нового алгоритма рекомендаций с использованием новой метрики (линеаризованные лайки).\n",
    "\n",
    "**Идея** - посмотреть насколько отличаются результаты A/B тестирования c использованием индивидуального CTR как ключевой мtтрики от линеаризованных лайков.\n",
    "\n",
    "**Задачи**:\n",
    "1. Посчитать по формулам ноую метрику.\n",
    "2. Провести A/A тесты, чтобы проверить группы на равенство до эксперенмта (+ что они статистически эквивалентны)\n",
    "3. Проводим A/B тесты с использованием индивидуального CTR и с использованием линеаризованных лайков (новой метрики). Сравниваем результаты в двух группах эксперементов:\n",
    "    * Первая группа - группа 0 (контрольная), группа 3 (эксперементальная). \n",
    "    * Вторая группа - группа 1 (контрольная), группа 2 (эксперементальная).\n",
    "4. Делаем выводы."
   ]
  },
  {
   "cell_type": "markdown",
   "id": "037539fe-06e7-4ba4-a49f-6314806d1484",
   "metadata": {},
   "source": [
    "**Метрика**\n",
    "\n",
    "1. Считаем общий CTR в контрольной группе:     \n",
    "    𝐶𝑇𝑅𝑐𝑜𝑛𝑡𝑟𝑜𝑙=𝑠𝑢𝑚(𝑙𝑖𝑘𝑒𝑠)/𝑠𝑢𝑚(𝑣𝑖𝑒𝑤𝑠) \n",
    "2. Посчитаем в обеих группах поюзерную метрику:     \n",
    "    𝑙𝑖𝑛𝑒𝑎𝑟𝑖𝑧𝑒𝑑_𝑙𝑖𝑘𝑒𝑠=𝑙𝑖𝑘𝑒𝑠−𝐶𝑇𝑅𝑐𝑜𝑛𝑡𝑟𝑜𝑙∗𝑣𝑖𝑒𝑤𝑠 "
   ]
  },
  {
   "cell_type": "markdown",
   "id": "5eb3a497-b2cc-4ccb-9adf-8e87e055c8b5",
   "metadata": {},
   "source": [
    "# Анализ"
   ]
  },
  {
   "cell_type": "markdown",
   "id": "b3a78065-f1bf-4d83-b1ef-5e49d189f4a5",
   "metadata": {
    "tags": []
   },
   "source": [
    "## Подготовка к анализу"
   ]
  },
  {
   "cell_type": "markdown",
   "id": "aacfaef2-69a4-483c-9e29-894efce51ab9",
   "metadata": {
    "tags": []
   },
   "source": [
    "#### Основной"
   ]
  },
  {
   "cell_type": "code",
   "execution_count": 3,
   "id": "5be7f387-3216-4ade-b710-b9bcf0b27929",
   "metadata": {},
   "outputs": [],
   "source": [
    "# Загружаем библиотеки\n",
    "\n",
    "import pandahouse\n",
    "from scipy import stats\n",
    "import seaborn as sns\n",
    "import matplotlib.pyplot as plt\n",
    "import numpy as np"
   ]
  },
  {
   "cell_type": "code",
   "execution_count": 4,
   "id": "5d4e04c5-cd95-4c54-9c7c-5e6232d4a952",
   "metadata": {},
   "outputs": [],
   "source": [
    "# Соединияемся с сервером из ClickHouse\n",
    "\n",
    "connection = {\n",
    "    'host': 'https://clickhouse.lab.karpov.courses',\n",
    "    'password': 'dpo_python_2020',\n",
    "    'user': 'student',\n",
    "    'database': 'simulator_20230320'\n",
    "}"
   ]
  },
  {
   "cell_type": "code",
   "execution_count": 5,
   "id": "6ae4225e-91f6-4d0d-b4b0-e814d934f6c8",
   "metadata": {},
   "outputs": [],
   "source": [
    "# Выбираем данные для анализа результатов эксперимента\n",
    "\n",
    "q_03 = \"\"\"\n",
    "        SELECT \n",
    "                exp_group,\n",
    "                user_id,\n",
    "                sum(action = 'like') as likes,\n",
    "                sum(action = 'view') as views,\n",
    "                likes / views as CTR\n",
    "        FROM {db}.feed_actions \n",
    "        WHERE toDate(time) between '2023-03-02' and '2023-03-08'\n",
    "                and exp_group in (0, 3)\n",
    "        GROUP BY exp_group, user_id\n",
    "\n",
    "       \"\"\"\n",
    "\n",
    "q_12 = \"\"\"\n",
    "        SELECT \n",
    "                exp_group,\n",
    "                user_id,\n",
    "                sum(action = 'like') as likes,\n",
    "                sum(action = 'view') as views,\n",
    "                likes / views as CTR\n",
    "        FROM {db}.feed_actions \n",
    "        WHERE toDate(time) between '2023-03-02' and '2023-03-08'\n",
    "                and exp_group in (1, 2)\n",
    "        GROUP BY exp_group, user_id\n",
    "\n",
    "       \"\"\"\n",
    "\n",
    "# А также для AA теста\n",
    "\n",
    "q_03_aa = \"\"\"\n",
    "            SELECT \n",
    "                    exp_group,\n",
    "                    user_id,\n",
    "                    sum(action = 'like') as likes,\n",
    "                    sum(action = 'view') as views,\n",
    "                    likes / views as CTR\n",
    "            FROM {db}.feed_actions \n",
    "            WHERE toDate(time) between '2023-02-22' and '2023-02-28'\n",
    "                    and exp_group in (0, 3)\n",
    "            GROUP BY exp_group, user_id\n",
    "\n",
    "          \"\"\"\n",
    "\n",
    "q_12_aa = \"\"\"\n",
    "            SELECT \n",
    "                    exp_group,\n",
    "                    user_id,\n",
    "                    sum(action = 'like') as likes,\n",
    "                    sum(action = 'view') as views,\n",
    "                    likes / views as CTR\n",
    "            FROM {db}.feed_actions \n",
    "            WHERE toDate(time) between '2023-02-22' and '2023-02-28'\n",
    "                    and exp_group in (1, 2)\n",
    "            GROUP BY exp_group, user_id\n",
    "\n",
    "          \"\"\""
   ]
  },
  {
   "cell_type": "code",
   "execution_count": 6,
   "id": "7b047542-065a-471a-8a9a-010dd89832ca",
   "metadata": {},
   "outputs": [],
   "source": [
    "# Создаем датафреймы\n",
    "\n",
    "df_03 = pandahouse.read_clickhouse(q_03, connection=connection)\n",
    "df_12 = pandahouse.read_clickhouse(q_12, connection=connection)\n",
    "\n",
    "df_03_aa = pandahouse.read_clickhouse(q_03_aa, connection=connection)\n",
    "df_12_aa = pandahouse.read_clickhouse(q_12_aa, connection=connection)"
   ]
  },
  {
   "cell_type": "code",
   "execution_count": 7,
   "id": "7c69178c-15cd-4b04-8018-841a7c9b0017",
   "metadata": {},
   "outputs": [],
   "source": [
    "# Настраиваем размер графиков\n",
    "sns.set(rc={'figure.figsize': (11.7, 8.27)})"
   ]
  },
  {
   "cell_type": "markdown",
   "id": "b4184cdc-02f5-4950-b856-653e48e77007",
   "metadata": {
    "tags": []
   },
   "source": [
    "## Cчитаем метрику"
   ]
  },
  {
   "cell_type": "code",
   "execution_count": 8,
   "id": "12600a9d-d140-40d5-8fc3-0c9fe4d97018",
   "metadata": {},
   "outputs": [],
   "source": [
    "# Считаем общий CTR в контрольных группах (0 и 1) для эксперемента\n",
    "\n",
    "CTR_control_0 = sum(df_03[df_03.exp_group == 0].likes) / sum(df_03[df_03.exp_group == 0].views)\n",
    "CTR_control_1 = sum(df_12[df_12.exp_group == 1].likes) / sum(df_12[df_12.exp_group == 1].views)\n",
    "\n",
    "# И для AA теста\n",
    "\n",
    "CTR_control_0_aa = sum(df_03_aa[df_03_aa.exp_group == 0].likes) / sum(df_03_aa[df_03_aa.exp_group == 0].views)\n",
    "CTR_control_1_aa = sum(df_12_aa[df_12_aa.exp_group == 1].likes) / sum(df_12_aa[df_12_aa.exp_group == 1].views)"
   ]
  },
  {
   "cell_type": "code",
   "execution_count": 9,
   "id": "e7123997-fbd5-44f1-aea6-4c5c9363e708",
   "metadata": {},
   "outputs": [],
   "source": [
    "# Cчитаем поюзеную метрику в каждой группе для эксперемента\n",
    "\n",
    "df_03['linearized_likes'] = df_03.likes - CTR_control_0 * df_03.views\n",
    "df_12['linearized_likes'] = df_12.likes - CTR_control_1 * df_12.views\n",
    "\n",
    "# И для AA теста\n",
    "\n",
    "df_03_aa['linearized_likes'] = df_03_aa.likes - CTR_control_0_aa * df_03_aa.views\n",
    "df_12_aa['linearized_likes'] = df_12_aa.likes - CTR_control_1_aa * df_12_aa.views"
   ]
  },
  {
   "cell_type": "markdown",
   "id": "25870c77-abcb-4413-8cb3-09ad610126da",
   "metadata": {
    "tags": []
   },
   "source": [
    "## Первичный анализ данных"
   ]
  },
  {
   "cell_type": "markdown",
   "id": "2ad8feea-ad5e-41c5-986e-9f69e9f21920",
   "metadata": {
    "tags": []
   },
   "source": [
    "#### AA тест"
   ]
  },
  {
   "cell_type": "code",
   "execution_count": 10,
   "id": "bef22f60-c0ad-4bb6-b1b2-1fc959c2782b",
   "metadata": {},
   "outputs": [
    {
     "name": "stdout",
     "output_type": "stream",
     "text": [
      "           user_id  likes  views   CTR  linearized_likes\n",
      "exp_group                                               \n",
      "0             8373   8373   8373  8373              8373\n",
      "3             8451   8451   8451  8451              8451\n",
      "           user_id  likes  views   CTR  linearized_likes\n",
      "exp_group                                               \n",
      "1             8423   8423   8423  8423              8423\n",
      "2             8342   8342   8342  8342              8342\n"
     ]
    }
   ],
   "source": [
    "# Смотрим, чтобы количество наблюдений в группах не сильно отличалось\n",
    "\n",
    "print(df_03_aa.groupby('exp_group').count())\n",
    "print(df_12_aa.groupby('exp_group').count())"
   ]
  },
  {
   "cell_type": "code",
   "execution_count": 33,
   "id": "6420f362-1234-492c-bf8d-d2c3d83179ed",
   "metadata": {},
   "outputs": [
    {
     "data": {
      "text/plain": [
       "Text(0, 0.5, 'Кол-во')"
      ]
     },
     "execution_count": 33,
     "metadata": {},
     "output_type": "execute_result"
    },
    {
     "data": {
      "image/png": "[encoded data removed]",
      "text/plain": [
       "<Figure size 1440x504 with 2 Axes>"
      ]
     },
     "metadata": {},
     "output_type": "display_data"
    }
   ],
   "source": [
    "## Смотрим на распределение ключевой метрики (linearized_likes) в каждой группе ЗА неделю до эксперемента\n",
    "\n",
    "# Создаем настройки для объединения графиков\n",
    "sns.set_style(\"whitegrid\")\n",
    "fig, ax = plt.subplots(1, 2, figsize=(20, 7), sharex=True)\n",
    "fig.suptitle(f'Распределение линеаризованных лайков', fontweight='bold',fontsize=14)\n",
    "# Задаем позиции\n",
    "ax_1 = ax[0]\n",
    "ax_2 = ax[1]\n",
    "\n",
    "# Группы 0 и 3\n",
    "sns.set_style(\"whitegrid\")\n",
    "groups = sns.histplot(data=df_03_aa,\n",
    "                     x='linearized_likes',\n",
    "                     hue='exp_group',\n",
    "                     palette=['r', 'b'],\n",
    "                     alpha=0.5,\n",
    "                     kde=False,\n",
    "                     legend=True,\n",
    "                     ax=ax_1)\n",
    "# Добавляем подписи \n",
    "ax_1.legend(['0 (контр.)','3 (экспер.)'])\n",
    "ax_1.set_xlabel('Линеаризованные лайки')\n",
    "ax_1.set_ylabel('Кол-во')\n",
    "\n",
    "# Группы 1 и 2\n",
    "sns.set_style(\"whitegrid\")\n",
    "sns.histplot(data=df_12_aa,\n",
    "                     x='linearized_likes',\n",
    "                     hue='exp_group',\n",
    "                     palette=['r', 'b'],\n",
    "                     alpha=0.5,\n",
    "                     kde=False,\n",
    "                     legend=True,\n",
    "                     ax=ax_2)\n",
    "\n",
    "# Добавляем подписи\n",
    "ax_2.legend(['1 (контр.)','2 (экспер.)'])\n",
    "ax_2.set_xlabel('Линеаризованные лайки')\n",
    "ax_2.set_ylabel('Кол-во')"
   ]
  },
  {
   "cell_type": "code",
   "execution_count": 85,
   "id": "00368c2e-b29e-46a3-9618-19c14c2a21d8",
   "metadata": {},
   "outputs": [
    {
     "name": "stdout",
     "output_type": "stream",
     "text": [
      "Результаты AA теста\n",
      "  p-value для групп 0 и 3: 0.5783275494199667\n",
      "  p-value для групп 1 и 2: 0.04428982299635346\n"
     ]
    }
   ],
   "source": [
    "# Cверяем наши наблюдения с результатами ttest (распределение +- нормальное)\n",
    "\n",
    "ttest_03_aa = stats.ttest_ind(df_03_aa[df_03_aa.exp_group == 0].linearized_likes, df_03_aa[df_03_aa.exp_group == 3].linearized_likes)\n",
    "ttest_12_aa = stats.ttest_ind(df_12_aa[df_12_aa.exp_group == 1].linearized_likes, df_12_aa[df_12_aa.exp_group == 2].linearized_likes)\n",
    "\n",
    "print('Результаты AA теста')\n",
    "print(f'  p-value для групп 0 и 3: {ttest_03_aa[1]}', f'  p-value для групп 1 и 2: {ttest_12_aa[1]}', sep=\"\\n\")True"
   ]
  },
  {
   "cell_type": "markdown",
   "id": "88a69430-7187-4ae7-9008-4e64237ecf06",
   "metadata": {},
   "source": [
    "**Вывод**: \n",
    "1. Для групп 0 и 3 все хорошо, группы статистически эквивалентны (наколько это возможно). Можно переходить к тестам.\n",
    "2. Однако результаты групп 1 и 2 почти на грани (p-value < 0.05)"
   ]
  },
  {
   "cell_type": "markdown",
   "id": "80db5ac8-a0d2-4d1b-a861-e7c8c8f8efb8",
   "metadata": {
    "tags": []
   },
   "source": [
    "## Анализ - А/В "
   ]
  },
  {
   "cell_type": "code",
   "execution_count": 34,
   "id": "12669ff6-3e46-46d5-bcf6-49be9fab9cb4",
   "metadata": {},
   "outputs": [
    {
     "data": {
      "text/plain": [
       "Text(0, 0.5, 'Кол-во')"
      ]
     },
     "execution_count": 34,
     "metadata": {},
     "output_type": "execute_result"
    },
    {
     "data": {
      "image/png": "[encoded data removed]",
      "text/plain": [
       "<Figure size 1440x504 with 2 Axes>"
      ]
     },
     "metadata": {},
     "output_type": "display_data"
    }
   ],
   "source": [
    "## Смотрим на распределение ключевой метрики (linearized_likes) в каждой группе ВО время эксперимента\n",
    "\n",
    "# Создаем настройки для объединения графиков\n",
    "sns.set_style(\"whitegrid\")\n",
    "fig, ax = plt.subplots(1, 2, figsize=(20, 7), sharex=True)\n",
    "fig.suptitle(f'Распределение линеаризованных лайков', fontweight='bold',fontsize=14)\n",
    "# Задаем позиции\n",
    "ax_1 = ax[0]\n",
    "ax_2 = ax[1]\n",
    "\n",
    "# Группы 0 и 3\n",
    "sns.set_style(\"whitegrid\")\n",
    "groups = sns.histplot(data=df_03,\n",
    "                     x='linearized_likes',\n",
    "                     hue='exp_group',\n",
    "                     palette=['r', 'b'],\n",
    "                     alpha=0.5,\n",
    "                     kde=False,\n",
    "                     legend=True,\n",
    "                     ax=ax_1)\n",
    "# Добавляем подписи \n",
    "ax_1.legend(['0 (контр.)','3 (экспер.)'])\n",
    "ax_1.set_xlabel('Линеаризованные лайки')\n",
    "ax_1.set_ylabel('Кол-во')\n",
    "\n",
    "# Группы 1 и 2\n",
    "sns.set_style(\"whitegrid\")\n",
    "sns.histplot(data=df_12,\n",
    "                     x='linearized_likes',\n",
    "                     hue='exp_group',\n",
    "                     palette=['r', 'b'],\n",
    "                     alpha=0.5,\n",
    "                     kde=False,\n",
    "                     legend=True,\n",
    "                     ax=ax_2)\n",
    "\n",
    "# Добавляем подписи\n",
    "ax_2.legend(['1 (контр.)','2 (экспер.)'])\n",
    "ax_2.set_xlabel('Линеаризованные лайки')\n",
    "ax_2.set_ylabel('Кол-во')"
   ]
  },
  {
   "cell_type": "code",
   "execution_count": 93,
   "id": "e7ff95c9-8a4d-469e-a7bb-f172e0642316",
   "metadata": {},
   "outputs": [
    {
     "name": "stdout",
     "output_type": "stream",
     "text": [
      "Результаты AB теста\n",
      "  p-value для групп 0 и 3: 5.454089613384093e-52\n",
      "  p-value для групп 1 и 2: 8.136173836093922e-10\n"
     ]
    }
   ],
   "source": [
    "# Проводим ttest (распределение нормальное)\n",
    "\n",
    "ttest_03 = stats.ttest_ind(df_03[df_03.exp_group == 0].linearized_likes, df_03[df_03.exp_group == 3].linearized_likes)\n",
    "ttest_12 = stats.ttest_ind(df_12[df_12.exp_group == 1].linearized_likes, df_12[df_12.exp_group == 2].linearized_likes)\n",
    "\n",
    "\n",
    "print('Результаты AB теста')\n",
    "print(f'  p-value для групп 0 и 3: {ttest_03[1]}', f'  p-value для групп 1 и 2: {ttest_12[1]}', sep=\"\\n\")"
   ]
  },
  {
   "cell_type": "markdown",
   "id": "d62b8fc4-c2be-46c1-bd7d-a2992b43cee9",
   "metadata": {},
   "source": [
    "**Выводы**: \n",
    " 1. На графике \"Распределение linearized_likes (группа 0 и 3)\" мы видим смещещение результатов эксперементальной группы немного левее - предположительно **эффект есть, но отрицательный**;\n",
    " 2. Ttest подтверждает результаты - p-value < 0.05;\n",
    " 3. На графике \"Распределение linearized_likes (группа 1 и 2)\" мы видим различие между группами - предположительно **эффект есть**, но с направленность уже сложнее;\n",
    " 4. Ttest подтверждает результаты - p-value < 0.05;"
   ]
  },
  {
   "cell_type": "markdown",
   "id": "8ce8ec5f-e629-484d-9b4b-283e8948f16b",
   "metadata": {
    "tags": []
   },
   "source": [
    "## Верифицируем выводы"
   ]
  },
  {
   "cell_type": "code",
   "execution_count": 91,
   "id": "27654d38-2ee4-4648-9458-98d81bc25de0",
   "metadata": {},
   "outputs": [
    {
     "name": "stdout",
     "output_type": "stream",
     "text": [
      "Результаты AB теста\n",
      "  p-value для групп 0 и 3: 1.1517315029786597e-63\n",
      "  p-value для групп 1 и 2: 9.404319579641738e-27\n"
     ]
    }
   ],
   "source": [
    "# Проверим результаты на тесте Манна-Уитни\n",
    "\n",
    "mw_03 = stats.mannwhitneyu(df_03[df_03.exp_group == 0].linearized_likes, df_03[df_03.exp_group == 3].linearized_likes)\n",
    "mw_12 = stats.mannwhitneyu(df_12[df_12.exp_group == 1].linearized_likes, df_12[df_12.exp_group == 2].linearized_likes)\n",
    "\n",
    "\n",
    "print('Результаты AB теста')\n",
    "print(f'  p-value для групп 0 и 3: {mw_03[1]}', f'  p-value для групп 1 и 2: {mw_12[1]}', sep=\"\\n\")"
   ]
  },
  {
   "cell_type": "markdown",
   "id": "0b553b35-61ba-45d3-b4f0-164973c45c0e",
   "metadata": {},
   "source": [
    "#### Сравниваем результаты с CTR"
   ]
  },
  {
   "cell_type": "code",
   "execution_count": 110,
   "id": "83e439fc-ef37-4e2c-8ada-b39d39f8f4fe",
   "metadata": {},
   "outputs": [
    {
     "name": "stdout",
     "output_type": "stream",
     "text": [
      "Сравнение результов AB теста\n",
      "  p-value для групп 0 и 3: CTR > linearized_likes    True\n",
      "  p-value для групп 1 и 2: CTR > linearized_likes    True\n",
      "Разница p-value при СTR и линеаризованных лайках\n",
      "  для групп 0 и 3: 0.0\n",
      "  для групп 1 и 2: 0.48\n"
     ]
    }
   ],
   "source": [
    "# Проводим ttest (распределение нормальное)\n",
    "\n",
    "ttest_03_CTR = stats.ttest_ind(df_03[df_03.exp_group == 0].CTR, df_03[df_03.exp_group == 3].CTR)\n",
    "ttest_12_CTR = stats.ttest_ind(df_12[df_12.exp_group == 1].CTR, df_12[df_12.exp_group == 2].CTR)\n",
    "\n",
    "\n",
    "print('Сравнение результов AB теста')\n",
    "print(f'  p-value для групп 0 и 3: CTR > linearized_likes    {ttest_03_CTR[1] > ttest_03[1]}', \n",
    "      f'  p-value для групп 1 и 2: CTR > linearized_likes    {ttest_12_CTR[1] > ttest_12[1]}', \n",
    "      sep=\"\\n\")\n",
    "\n",
    "\n",
    "print('Разница p-value при СTR и линеаризованных лайках')\n",
    "print(f'  для групп 0 и 3: {round(ttest_03_CTR[1] - ttest_03[1], 15)}')\n",
    "print(f'  для групп 1 и 2: {round(ttest_12_CTR[1] - ttest_12[1], 2)}')"
   ]
  },
  {
   "cell_type": "markdown",
   "id": "bae3f436-d399-4d04-97c6-2649312ffb3a",
   "metadata": {},
   "source": [
    "**Следовательно**, наша новая метрика дает меньший показатель p-value в ttest. А для групп 1 и 2 так с большой разницей."
   ]
  },
  {
   "cell_type": "markdown",
   "id": "2408154b-a642-4626-88f2-80b5abab52c5",
   "metadata": {},
   "source": [
    "## Выводы"
   ]
  },
  {
   "cell_type": "markdown",
   "id": "2da7e0dc-be90-4885-b01b-788a844f3968",
   "metadata": {},
   "source": [
    "Мы использовали новую центральную метрику, чтобы измерить эффект от нового алгоритма рекомендаций постов. По сравнению с обычной метрикой CTR \"линеаризованные лайки\" дают нам на выходе меньший p-value при проведении ttest. \n",
    "\n",
    "Однако немного сложно интерпретировать такую метрику. И я бы посмотрела на \"теоретическое\" подкрепление данной метрики, чтобы не было похоже на манипуляцию с метриками, дабы получить желаемую разницу в реузльтатах.\n"
   ]
  }
 ],
 "metadata": {
  "kernelspec": {
   "display_name": "Python 3 (ipykernel)",
   "language": "python",
   "name": "python3"
  },
  "language_info": {
   "codemirror_mode": {
    "name": "ipython",
    "version": 3
   },
   "file_extension": ".py",
   "mimetype": "text/x-python",
   "name": "python",
   "nbconvert_exporter": "python",
   "pygments_lexer": "ipython3",
   "version": "3.8.10"
  }
 },
 "nbformat": 4,
 "nbformat_minor": 5
}
